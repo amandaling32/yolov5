{
 "cells": [
  {
   "cell_type": "code",
   "execution_count": 1,
   "metadata": {},
   "outputs": [
    {
     "name": "stdout",
     "output_type": "stream",
     "text": [
      "Collecting roboflow\n",
      "  Downloading roboflow-0.2.16-py3-none-any.whl (38 kB)\n",
      "Collecting opencv-python-headless>=4.5.1.48\n",
      "  Using cached opencv_python_headless-4.6.0.66-cp36-abi3-win_amd64.whl (35.5 MB)\n",
      "Requirement already satisfied: PyYAML>=5.3.1 in c:\\users\\amand\\yolov5_2\\yolov5\\env\\lib\\site-packages (from roboflow) (6.0)\n",
      "Collecting certifi==2021.5.30\n",
      "  Using cached certifi-2021.5.30-py2.py3-none-any.whl (145 kB)\n",
      "Requirement already satisfied: numpy>=1.18.5 in c:\\users\\amand\\yolov5_2\\yolov5\\env\\lib\\site-packages (from roboflow) (1.21.6)\n",
      "Requirement already satisfied: python-dateutil in c:\\users\\amand\\yolov5_2\\yolov5\\env\\lib\\site-packages (from roboflow) (2.8.2)\n",
      "Requirement already satisfied: tqdm>=4.41.0 in c:\\users\\amand\\yolov5_2\\yolov5\\env\\lib\\site-packages (from roboflow) (4.64.1)\n",
      "Collecting cycler==0.10.0\n",
      "  Using cached cycler-0.10.0-py2.py3-none-any.whl (6.5 kB)\n",
      "Requirement already satisfied: requests in c:\\users\\amand\\yolov5_2\\yolov5\\env\\lib\\site-packages (from roboflow) (2.28.1)\n",
      "Collecting urllib3==1.26.6\n",
      "  Using cached urllib3-1.26.6-py2.py3-none-any.whl (138 kB)\n",
      "Collecting chardet==4.0.0\n",
      "  Downloading chardet-4.0.0-py2.py3-none-any.whl (178 kB)\n",
      "Collecting idna==2.10\n",
      "  Using cached idna-2.10-py2.py3-none-any.whl (58 kB)\n",
      "Requirement already satisfied: Pillow>=7.1.2 in c:\\users\\amand\\yolov5_2\\yolov5\\env\\lib\\site-packages (from roboflow) (9.2.0)\n",
      "Collecting pyparsing==2.4.7\n",
      "  Using cached pyparsing-2.4.7-py2.py3-none-any.whl (67 kB)\n",
      "Collecting requests-toolbelt\n",
      "  Downloading requests_toolbelt-0.10.0-py2.py3-none-any.whl (54 kB)\n",
      "Collecting python-dotenv\n",
      "  Using cached python_dotenv-0.21.0-py3-none-any.whl (18 kB)\n",
      "Requirement already satisfied: matplotlib in c:\\users\\amand\\yolov5_2\\yolov5\\env\\lib\\site-packages (from roboflow) (3.5.3)\n",
      "Collecting kiwisolver==1.3.1\n",
      "  Downloading kiwisolver-1.3.1-cp37-cp37m-win_amd64.whl (51 kB)\n",
      "Collecting wget\n",
      "  Using cached wget-3.2.zip (10 kB)\n",
      "Collecting glob2\n",
      "  Downloading glob2-0.7.tar.gz (10 kB)\n",
      "Requirement already satisfied: six in c:\\users\\amand\\yolov5_2\\yolov5\\env\\lib\\site-packages (from roboflow) (1.16.0)\n",
      "Requirement already satisfied: colorama; platform_system == \"Windows\" in c:\\users\\amand\\yolov5_2\\yolov5\\env\\lib\\site-packages (from tqdm>=4.41.0->roboflow) (0.4.5)\n",
      "Requirement already satisfied: charset-normalizer<3,>=2 in c:\\users\\amand\\yolov5_2\\yolov5\\env\\lib\\site-packages (from requests->roboflow) (2.1.1)\n",
      "Requirement already satisfied: packaging>=20.0 in c:\\users\\amand\\yolov5_2\\yolov5\\env\\lib\\site-packages (from matplotlib->roboflow) (21.3)\n",
      "Requirement already satisfied: fonttools>=4.22.0 in c:\\users\\amand\\yolov5_2\\yolov5\\env\\lib\\site-packages (from matplotlib->roboflow) (4.37.1)\n",
      "Building wheels for collected packages: wget, glob2\n",
      "  Building wheel for wget (setup.py): started\n",
      "  Building wheel for wget (setup.py): finished with status 'done'\n",
      "  Created wheel for wget: filename=wget-3.2-py3-none-any.whl size=9682 sha256=eebcb93d85059fc77adeebe02ad8c2463e340695c0c2e3b897482ac0e26a1e7a\n",
      "  Stored in directory: c:\\users\\amand\\appdata\\local\\pip\\cache\\wheels\\a1\\b6\\7c\\0e63e34eb06634181c63adacca38b79ff8f35c37e3c13e3c02\n",
      "  Building wheel for glob2 (setup.py): started\n",
      "  Building wheel for glob2 (setup.py): finished with status 'done'\n",
      "  Created wheel for glob2: filename=glob2-0.7-py2.py3-none-any.whl size=9308 sha256=8d4f076b6cb3b7501dee3e6c9035c99a43ee1b0521ddbbc8b52a9e06d9b8c856\n",
      "  Stored in directory: c:\\users\\amand\\appdata\\local\\pip\\cache\\wheels\\d7\\3c\\72\\5300602ba1269ffce8cff5dcf7b525fee756b57455903c37ba\n",
      "Successfully built wget glob2\n",
      "Installing collected packages: opencv-python-headless, certifi, cycler, urllib3, chardet, idna, pyparsing, requests-toolbelt, python-dotenv, kiwisolver, wget, glob2, roboflow\n",
      "  Attempting uninstall: certifi\n",
      "    Found existing installation: certifi 2022.9.14\n",
      "    Uninstalling certifi-2022.9.14:\n",
      "      Successfully uninstalled certifi-2022.9.14\n",
      "  Attempting uninstall: cycler\n",
      "    Found existing installation: cycler 0.11.0\n",
      "    Uninstalling cycler-0.11.0:\n",
      "      Successfully uninstalled cycler-0.11.0\n",
      "  Attempting uninstall: urllib3\n",
      "    Found existing installation: urllib3 1.26.12\n",
      "    Uninstalling urllib3-1.26.12:\n",
      "      Successfully uninstalled urllib3-1.26.12\n",
      "  Attempting uninstall: idna\n",
      "    Found existing installation: idna 3.4\n",
      "    Uninstalling idna-3.4:\n",
      "      Successfully uninstalled idna-3.4\n",
      "  Attempting uninstall: pyparsing\n",
      "    Found existing installation: pyparsing 3.0.9\n",
      "    Uninstalling pyparsing-3.0.9:\n",
      "      Successfully uninstalled pyparsing-3.0.9\n",
      "  Attempting uninstall: kiwisolver\n",
      "    Found existing installation: kiwisolver 1.4.4\n",
      "    Uninstalling kiwisolver-1.4.4:\n",
      "      Successfully uninstalled kiwisolver-1.4.4\n",
      "Successfully installed certifi-2021.5.30 chardet-4.0.0 cycler-0.10.0 glob2-0.7 idna-2.10 kiwisolver-1.3.1 opencv-python-headless-4.6.0.66 pyparsing-2.4.7 python-dotenv-0.21.0 requests-toolbelt-0.10.0 roboflow-0.2.16 urllib3-1.26.6 wget-3.2\n"
     ]
    },
    {
     "name": "stderr",
     "output_type": "stream",
     "text": [
      "WARNING: You are using pip version 20.1.1; however, version 22.2.2 is available.\n",
      "You should consider upgrading via the 'c:\\users\\amand\\yolov5_2\\yolov5\\env\\scripts\\python.exe -m pip install --upgrade pip' command.\n"
     ]
    },
    {
     "name": "stdout",
     "output_type": "stream",
     "text": [
      "loading Roboflow workspace...\n",
      "loading Roboflow project...\n",
      "Downloading Dataset Version Zip in mdpimages4-merge2-2 to yolov5pytorch: 100% [223342785 / 223342785] bytes\n"
     ]
    },
    {
     "name": "stderr",
     "output_type": "stream",
     "text": [
      "Extracting Dataset Version Zip to mdpimages4-merge2-2 in yolov5pytorch:: 100%|██████████| 2551/2551 [00:09<00:00, 256.57it/s]\n"
     ]
    }
   ],
   "source": [
    "!pip install roboflow\n",
    "\n",
    "from roboflow import Roboflow\n",
    "rf = Roboflow(api_key=\"mn7ZtLD2F32qSqVrZTS3\")\n",
    "project = rf.workspace(\"nanyan\").project(\"mdpimages4-merge2\")\n",
    "dataset = project.version(2).download(\"yolov5\")"
   ]
  }
 ],
 "metadata": {
  "kernelspec": {
   "display_name": "Python 3.7.9 ('env': venv)",
   "language": "python",
   "name": "python3"
  },
  "language_info": {
   "codemirror_mode": {
    "name": "ipython",
    "version": 3
   },
   "file_extension": ".py",
   "mimetype": "text/x-python",
   "name": "python",
   "nbconvert_exporter": "python",
   "pygments_lexer": "ipython3",
   "version": "3.7.9"
  },
  "orig_nbformat": 4,
  "vscode": {
   "interpreter": {
    "hash": "7da945dcccc47dd973a67ac6be3bcfbfc86a3f5c87c1cb8b017674666caaf792"
   }
  }
 },
 "nbformat": 4,
 "nbformat_minor": 2
}
