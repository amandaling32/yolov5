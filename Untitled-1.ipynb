{
 "cells": [
  {
   "cell_type": "code",
   "execution_count": 9,
   "metadata": {},
   "outputs": [
    {
     "name": "stdout",
     "output_type": "stream",
     "text": [
      "Collecting torch==1.7.1\n",
      "  Downloading torch-1.7.1-cp39-cp39-win_amd64.whl (184.0 MB)\n",
      "Requirement already satisfied: typing-extensions in c:\\users\\amand\\anaconda3\\lib\\site-packages (from torch==1.7.1) (3.10.0.2)\n",
      "Requirement already satisfied: numpy in c:\\users\\amand\\anaconda3\\lib\\site-packages (from torch==1.7.1) (1.20.3)\n",
      "Installing collected packages: torch\n",
      "  Attempting uninstall: torch\n",
      "    Found existing installation: torch 1.11.0\n",
      "    Uninstalling torch-1.11.0:\n",
      "      Successfully uninstalled torch-1.11.0\n",
      "Successfully installed torch-1.11.0\n"
     ]
    },
    {
     "name": "stderr",
     "output_type": "stream",
     "text": [
      "ERROR: pip's dependency resolver does not currently take into account all the packages that are installed. This behaviour is the source of the following dependency conflicts.\n",
      "torchvision 0.12.0 requires torch==1.11.0, but you have torch 1.7.1 which is incompatible.\n",
      "torchaudio 0.11.0 requires torch==1.11.0, but you have torch 1.7.1 which is incompatible.\n"
     ]
    }
   ],
   "source": [
    "!pip install torch==1.7.1"
   ]
  },
  {
   "cell_type": "code",
   "execution_count": 1,
   "metadata": {},
   "outputs": [
    {
     "name": "stderr",
     "output_type": "stream",
     "text": [
      "ERROR: pip's dependency resolver does not currently take into account all the packages that are installed. This behaviour is the source of the following dependency conflicts.\n",
      "conda-repo-cli 1.0.4 requires pathlib, which is not installed.\n",
      "anaconda-project 0.10.1 requires ruamel-yaml, which is not installed.\n"
     ]
    },
    {
     "name": "stdout",
     "output_type": "stream",
     "text": [
      "Collecting roboflow\n",
      "  Downloading roboflow-0.2.15.tar.gz (18 kB)\n",
      "Collecting certifi==2021.5.30\n",
      "  Downloading certifi-2021.5.30-py2.py3-none-any.whl (145 kB)\n",
      "Requirement already satisfied: chardet==4.0.0 in c:\\users\\amand\\anaconda3\\lib\\site-packages (from roboflow) (4.0.0)\n",
      "Requirement already satisfied: cycler==0.10.0 in c:\\users\\amand\\anaconda3\\lib\\site-packages (from roboflow) (0.10.0)\n",
      "Requirement already satisfied: glob2 in c:\\users\\amand\\anaconda3\\lib\\site-packages (from roboflow) (0.7)\n",
      "Collecting idna==2.10\n",
      "  Using cached idna-2.10-py2.py3-none-any.whl (58 kB)\n",
      "Requirement already satisfied: kiwisolver==1.3.1 in c:\\users\\amand\\anaconda3\\lib\\site-packages (from roboflow) (1.3.1)\n",
      "Requirement already satisfied: matplotlib in c:\\users\\amand\\anaconda3\\lib\\site-packages (from roboflow) (3.4.3)\n",
      "Requirement already satisfied: numpy>=1.18.5 in c:\\users\\amand\\anaconda3\\lib\\site-packages (from roboflow) (1.20.3)\n",
      "Collecting opencv-python-headless>=4.5.1.48\n",
      "  Downloading opencv_python_headless-4.6.0.66-cp36-abi3-win_amd64.whl (35.5 MB)\n",
      "Requirement already satisfied: Pillow>=7.1.2 in c:\\users\\amand\\anaconda3\\lib\\site-packages (from roboflow) (8.4.0)\n",
      "Collecting pyparsing==2.4.7\n",
      "  Using cached pyparsing-2.4.7-py2.py3-none-any.whl (67 kB)\n",
      "Requirement already satisfied: python-dateutil in c:\\users\\amand\\anaconda3\\lib\\site-packages (from roboflow) (2.8.2)\n",
      "Collecting python-dotenv\n",
      "  Downloading python_dotenv-0.21.0-py3-none-any.whl (18 kB)\n",
      "Requirement already satisfied: requests in c:\\users\\amand\\anaconda3\\lib\\site-packages (from roboflow) (2.26.0)\n",
      "Collecting requests_toolbelt\n",
      "  Downloading requests_toolbelt-0.9.1-py2.py3-none-any.whl (54 kB)\n",
      "Requirement already satisfied: six in c:\\users\\amand\\anaconda3\\lib\\site-packages (from roboflow) (1.16.0)\n",
      "Collecting urllib3==1.26.6\n",
      "  Downloading urllib3-1.26.6-py2.py3-none-any.whl (138 kB)\n",
      "Collecting wget\n",
      "  Using cached wget-3.2.zip (10 kB)\n",
      "Requirement already satisfied: tqdm>=4.41.0 in c:\\users\\amand\\anaconda3\\lib\\site-packages (from roboflow) (4.64.1)\n",
      "Requirement already satisfied: PyYAML>=5.3.1 in c:\\users\\amand\\anaconda3\\lib\\site-packages (from roboflow) (6.0)\n",
      "Requirement already satisfied: colorama in c:\\users\\amand\\anaconda3\\lib\\site-packages (from tqdm>=4.41.0->roboflow) (0.4.4)\n",
      "Requirement already satisfied: charset-normalizer~=2.0.0 in c:\\users\\amand\\anaconda3\\lib\\site-packages (from requests->roboflow) (2.0.4)\n",
      "Building wheels for collected packages: roboflow, wget\n",
      "  Building wheel for roboflow (setup.py): started\n",
      "  Building wheel for roboflow (setup.py): finished with status 'done'\n",
      "  Created wheel for roboflow: filename=roboflow-0.2.15-py3-none-any.whl size=24947 sha256=d354bd0519434709802c20a7166faa08968fee3a8a07dd2c5744102c9801305d\n",
      "  Stored in directory: c:\\users\\amand\\appdata\\local\\pip\\cache\\wheels\\15\\3d\\6c\\7162e1d44f2f1b59429136878ff6cf9bd3f3c16774e961031c\n",
      "  Building wheel for wget (setup.py): started\n",
      "  Building wheel for wget (setup.py): finished with status 'done'\n",
      "  Created wheel for wget: filename=wget-3.2-py3-none-any.whl size=9672 sha256=9325d9b28b8e8f5d56da1839529f8f1244fbc8cb106fed231b2e9b68f722278d\n",
      "  Stored in directory: c:\\users\\amand\\appdata\\local\\pip\\cache\\wheels\\04\\5f\\3e\\46cc37c5d698415694d83f607f833f83f0149e49b3af9d0f38\n",
      "Successfully built roboflow wget\n",
      "Installing collected packages: urllib3, idna, certifi, pyparsing, wget, requests-toolbelt, python-dotenv, opencv-python-headless, roboflow\n",
      "  Attempting uninstall: urllib3\n",
      "    Found existing installation: urllib3 1.26.7\n",
      "    Uninstalling urllib3-1.26.7:\n",
      "      Successfully uninstalled urllib3-1.26.7\n",
      "  Attempting uninstall: idna\n",
      "    Found existing installation: idna 3.2\n",
      "    Uninstalling idna-3.2:\n",
      "      Successfully uninstalled idna-3.2\n",
      "  Attempting uninstall: certifi\n",
      "    Found existing installation: certifi 2021.10.8\n",
      "    Uninstalling certifi-2021.10.8:\n",
      "      Successfully uninstalled certifi-2021.10.8\n",
      "  Attempting uninstall: pyparsing\n",
      "    Found existing installation: pyparsing 3.0.4\n",
      "    Uninstalling pyparsing-3.0.4:\n",
      "      Successfully uninstalled pyparsing-3.0.4\n",
      "Successfully installed certifi-2021.5.30 idna-2.10 opencv-python-headless-4.6.0.66 pyparsing-2.4.7 python-dotenv-0.21.0 requests-toolbelt-0.9.1 roboflow-0.2.15 urllib3-1.26.6 wget-3.2\n",
      "loading Roboflow workspace...\n",
      "loading Roboflow project...\n",
      "Downloading Dataset Version Zip in test-1 to yolov5pytorch: 100% [51286104 / 51286104] bytes\n"
     ]
    },
    {
     "name": "stderr",
     "output_type": "stream",
     "text": [
      "Extracting Dataset Version Zip to test-1 in yolov5pytorch:: 100%|██████████| 5932/5932 [00:09<00:00, 632.06it/s]\n"
     ]
    }
   ],
   "source": [
    "!pip install roboflow\n",
    "\n",
    "from roboflow import Roboflow\n",
    "rf = Roboflow(api_key=\"oINbrGSw8hUMWsCEbQ85\")\n",
    "project = rf.workspace(\"mdpgrp19-mxesx\").project(\"test-r3t0v\")\n",
    "dataset = project.version(1).download(\"yolov5\")"
   ]
  },
  {
   "cell_type": "code",
   "execution_count": 14,
   "metadata": {},
   "outputs": [
    {
     "name": "stderr",
     "output_type": "stream",
     "text": [
      "c:\\Users\\amand\\anaconda3\\lib\\site-packages\\torchvision\\io\\image.py:13: UserWarning: Failed to load image Python extension: Could not find module 'C:\\Users\\amand\\anaconda3\\Lib\\site-packages\\torchvision\\image.pyd' (or one of its dependencies). Try using the full path with constructor syntax.\n",
      "  warn(f\"Failed to load image Python extension: {e}\")\n",
      "Traceback (most recent call last):\n",
      "  File \"c:\\Users\\amand\\yolov5_2\\yolov5\\detect.py\", line 41, in <module>\n",
      "    from models.common import DetectMultiBackend\n",
      "  File \"c:\\Users\\amand\\yolov5_2\\yolov5\\models\\common.py\", line 23, in <module>\n",
      "    from utils.dataloaders import exif_transpose, letterbox\n",
      "  File \"c:\\Users\\amand\\yolov5_2\\yolov5\\utils\\dataloaders.py\", line 25, in <module>\n",
      "    import torchvision\n",
      "  File \"c:\\Users\\amand\\anaconda3\\lib\\site-packages\\torchvision\\__init__.py\", line 7, in <module>\n",
      "    from torchvision import models\n",
      "  File \"c:\\Users\\amand\\anaconda3\\lib\\site-packages\\torchvision\\models\\__init__.py\", line 2, in <module>\n",
      "    from .convnext import *\n",
      "  File \"c:\\Users\\amand\\anaconda3\\lib\\site-packages\\torchvision\\models\\convnext.py\", line 9, in <module>\n",
      "    from ..ops.misc import ConvNormActivation\n",
      "  File \"c:\\Users\\amand\\anaconda3\\lib\\site-packages\\torchvision\\ops\\__init__.py\", line 18, in <module>\n",
      "    from .poolers import MultiScaleRoIAlign\n",
      "  File \"c:\\Users\\amand\\anaconda3\\lib\\site-packages\\torchvision\\ops\\poolers.py\", line 5, in <module>\n",
      "    import torch.fx\n",
      "ModuleNotFoundError: No module named 'torch.fx'\n"
     ]
    }
   ],
   "source": [
    "# Weights\n",
    "weights_path = \"/yolov5/best_100epoch.pt\"\n",
    "\n",
    "# Img_size\n",
    "img_size = 416\n",
    "\n",
    "# conf_threshold\n",
    "conf_threshold = 0.25\n",
    "\n",
    "# Source_path\n",
    "source_path = \"/test-1/test/images\"\n",
    "\n",
    "# Data\n",
    "data_yaml_path = \"/test-1/data.yaml\"\n",
    "\n",
    "!python ./detect.py --weights $weights_path --img $img_size --conf $conf_threshold --source $source_path --data $data_yaml_path"
   ]
  },
  {
   "cell_type": "code",
   "execution_count": null,
   "metadata": {},
   "outputs": [],
   "source": [
    "!python ./detect.py --weights ./best_100epoch.pt --img 640 --conf 0.25 --source ./images --data ../test-1/data.yaml"
   ]
  }
 ],
 "metadata": {
  "kernelspec": {
   "display_name": "Python 3.9.7 ('base')",
   "language": "python",
   "name": "python3"
  },
  "language_info": {
   "codemirror_mode": {
    "name": "ipython",
    "version": 3
   },
   "file_extension": ".py",
   "mimetype": "text/x-python",
   "name": "python",
   "nbconvert_exporter": "python",
   "pygments_lexer": "ipython3",
   "version": "3.9.7"
  },
  "orig_nbformat": 4,
  "vscode": {
   "interpreter": {
    "hash": "3cb3cdbbf262fdff54efe70cd2922f0f0757dcdadbaeb09de0b9e6901692b9ab"
   }
  }
 },
 "nbformat": 4,
 "nbformat_minor": 2
}
